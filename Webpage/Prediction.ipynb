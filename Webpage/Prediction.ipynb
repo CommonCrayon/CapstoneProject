{
 "cells": [
  {
   "cell_type": "code",
   "execution_count": null,
   "metadata": {},
   "outputs": [],
   "source": [
    "user_id = int(input(\"Enter User ID:\"))"
   ]
  },
  {
   "cell_type": "code",
   "execution_count": null,
   "metadata": {},
   "outputs": [],
   "source": []
  },
  {
   "cell_type": "markdown",
   "metadata": {},
   "source": [
    "Imports"
   ]
  },
  {
   "cell_type": "code",
   "execution_count": 21,
   "metadata": {},
   "outputs": [],
   "source": [
    "# Create a dictionary to hold the user inputs\n",
    "user_data = [1.219451,      # Trading_Frequency\n",
    "             10.141791,     # Total_Trades  \n",
    "             18.389751,     # Average_Volume_USD\n",
    "             0.133754,      # Average_DPM\n",
    "             0.285714,      # Peak_Trading_Times\n",
    "             3.769439,      # Profit_Loss_Variability\n",
    "             0.383635,      # Average_Trade_Duration\n",
    "             -6.935588,     # Average_Commission\n",
    "             -24.382993,    # Average_Swaps\n",
    "             1.632630,      # Average_Profit\n",
    "             14.078065,     # average_net_deposit\n",
    "             0.0,           # average_credit\n",
    "             47.485632,     # Buy_Percentage\n",
    "             3.375000,      # TP/SL Hit Ratio\n",
    "             0.086763,      # Reward_Risk_Ratio\n",
    "             0.762931,      # Ratio_Profitable_Trades\n",
    "             6.0,           # country\n",
    "             3.0,           # account_currency\n",
    "             1.0,           # Trading_Method\n",
    "             ]"
   ]
  },
  {
   "cell_type": "markdown",
   "metadata": {},
   "source": [
    "Loading Model"
   ]
  },
  {
   "cell_type": "code",
   "execution_count": 22,
   "metadata": {},
   "outputs": [],
   "source": [
    "import joblib\n",
    "\n",
    "# Load the saved model\n",
    "random_forest_regressor_loaded = joblib.load('SavedModels/Random_Forest_Regressor_model.pkl')"
   ]
  },
  {
   "cell_type": "markdown",
   "metadata": {},
   "source": [
    "Predicting"
   ]
  },
  {
   "cell_type": "code",
   "execution_count": 23,
   "metadata": {},
   "outputs": [
    {
     "name": "stderr",
     "output_type": "stream",
     "text": [
      "c:\\Users\\talha\\miniconda3\\envs\\tensorflow\\lib\\site-packages\\sklearn\\base.py:464: UserWarning: X does not have valid feature names, but RandomForestRegressor was fitted with feature names\n",
      "  warnings.warn(\n"
     ]
    }
   ],
   "source": [
    "import numpy as np\n",
    "\n",
    "# Reshape user_data into a 2D array with a single sample\n",
    "user_data_reshaped = np.array(user_data).reshape(1, -1)\n",
    "\n",
    "# Make predictions using the loaded model\n",
    "y_test_pred_loaded = random_forest_regressor_loaded.predict(user_data_reshaped)\n"
   ]
  },
  {
   "cell_type": "code",
   "execution_count": 24,
   "metadata": {},
   "outputs": [
    {
     "name": "stdout",
     "output_type": "stream",
     "text": [
      "[140.66]\n"
     ]
    }
   ],
   "source": [
    "print(y_test_pred_loaded)"
   ]
  },
  {
   "cell_type": "code",
   "execution_count": null,
   "metadata": {},
   "outputs": [],
   "source": []
  }
 ],
 "metadata": {
  "kernelspec": {
   "display_name": "tensorflow",
   "language": "python",
   "name": "python3"
  },
  "language_info": {
   "codemirror_mode": {
    "name": "ipython",
    "version": 3
   },
   "file_extension": ".py",
   "mimetype": "text/x-python",
   "name": "python",
   "nbconvert_exporter": "python",
   "pygments_lexer": "ipython3",
   "version": "3.8.18"
  }
 },
 "nbformat": 4,
 "nbformat_minor": 2
}
